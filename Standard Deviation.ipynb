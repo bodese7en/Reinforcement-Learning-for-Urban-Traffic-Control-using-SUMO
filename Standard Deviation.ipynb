{
 "cells": [
  {
   "cell_type": "code",
   "execution_count": 1,
   "id": "23099d25",
   "metadata": {},
   "outputs": [],
   "source": [
    "import statistics\n",
    "import pandas as pd\n",
    "import numpy as np"
   ]
  },
  {
   "cell_type": "code",
   "execution_count": 2,
   "id": "d86b846f",
   "metadata": {},
   "outputs": [
    {
     "data": {
      "text/html": [
       "<div>\n",
       "<style scoped>\n",
       "    .dataframe tbody tr th:only-of-type {\n",
       "        vertical-align: middle;\n",
       "    }\n",
       "\n",
       "    .dataframe tbody tr th {\n",
       "        vertical-align: top;\n",
       "    }\n",
       "\n",
       "    .dataframe thead th {\n",
       "        text-align: right;\n",
       "    }\n",
       "</style>\n",
       "<table border=\"1\" class=\"dataframe\">\n",
       "  <thead>\n",
       "    <tr style=\"text-align: right;\">\n",
       "      <th></th>\n",
       "      <th>Cumulative delay</th>\n",
       "      <th>Vehicle Queue Lenght</th>\n",
       "      <th>Reward</th>\n",
       "    </tr>\n",
       "  </thead>\n",
       "  <tbody>\n",
       "    <tr>\n",
       "      <th>0</th>\n",
       "      <td>59538</td>\n",
       "      <td>11.025556</td>\n",
       "      <td>-36812</td>\n",
       "    </tr>\n",
       "    <tr>\n",
       "      <th>1</th>\n",
       "      <td>54316</td>\n",
       "      <td>10.058519</td>\n",
       "      <td>-30082</td>\n",
       "    </tr>\n",
       "    <tr>\n",
       "      <th>2</th>\n",
       "      <td>44575</td>\n",
       "      <td>8.254630</td>\n",
       "      <td>-24979</td>\n",
       "    </tr>\n",
       "    <tr>\n",
       "      <th>3</th>\n",
       "      <td>48391</td>\n",
       "      <td>8.961296</td>\n",
       "      <td>-27798</td>\n",
       "    </tr>\n",
       "    <tr>\n",
       "      <th>4</th>\n",
       "      <td>50483</td>\n",
       "      <td>9.348704</td>\n",
       "      <td>-28511</td>\n",
       "    </tr>\n",
       "    <tr>\n",
       "      <th>...</th>\n",
       "      <td>...</td>\n",
       "      <td>...</td>\n",
       "      <td>...</td>\n",
       "    </tr>\n",
       "    <tr>\n",
       "      <th>95</th>\n",
       "      <td>18889</td>\n",
       "      <td>3.497963</td>\n",
       "      <td>-5588</td>\n",
       "    </tr>\n",
       "    <tr>\n",
       "      <th>96</th>\n",
       "      <td>18422</td>\n",
       "      <td>3.411481</td>\n",
       "      <td>-4786</td>\n",
       "    </tr>\n",
       "    <tr>\n",
       "      <th>97</th>\n",
       "      <td>20586</td>\n",
       "      <td>3.812222</td>\n",
       "      <td>-5840</td>\n",
       "    </tr>\n",
       "    <tr>\n",
       "      <th>98</th>\n",
       "      <td>34505</td>\n",
       "      <td>6.389815</td>\n",
       "      <td>-8317</td>\n",
       "    </tr>\n",
       "    <tr>\n",
       "      <th>99</th>\n",
       "      <td>18630</td>\n",
       "      <td>3.450000</td>\n",
       "      <td>-5682</td>\n",
       "    </tr>\n",
       "  </tbody>\n",
       "</table>\n",
       "<p>100 rows × 3 columns</p>\n",
       "</div>"
      ],
      "text/plain": [
       "    Cumulative delay  Vehicle Queue Lenght  Reward\n",
       "0              59538             11.025556  -36812\n",
       "1              54316             10.058519  -30082\n",
       "2              44575              8.254630  -24979\n",
       "3              48391              8.961296  -27798\n",
       "4              50483              9.348704  -28511\n",
       "..               ...                   ...     ...\n",
       "95             18889              3.497963   -5588\n",
       "96             18422              3.411481   -4786\n",
       "97             20586              3.812222   -5840\n",
       "98             34505              6.389815   -8317\n",
       "99             18630              3.450000   -5682\n",
       "\n",
       "[100 rows x 3 columns]"
      ]
     },
     "execution_count": 2,
     "metadata": {},
     "output_type": "execute_result"
    }
   ],
   "source": [
    "df = pd.read_csv('Experiment 1.csv')\n",
    "df"
   ]
  },
  {
   "cell_type": "code",
   "execution_count": 3,
   "id": "b94b72d7",
   "metadata": {},
   "outputs": [
    {
     "data": {
      "text/plain": [
       "Cumulative delay        30329.960000\n",
       "Vehicle Queue Lenght        5.616659\n",
       "Reward                 -12566.400000\n",
       "dtype: float64"
      ]
     },
     "execution_count": 3,
     "metadata": {},
     "output_type": "execute_result"
    }
   ],
   "source": [
    "df.mean()"
   ]
  },
  {
   "cell_type": "code",
   "execution_count": 4,
   "id": "35185cbc",
   "metadata": {},
   "outputs": [
    {
     "data": {
      "text/plain": [
       "Cumulative delay        8.398729e+07\n",
       "Vehicle Queue Lenght    2.880222e+00\n",
       "Reward                  4.253163e+07\n",
       "dtype: float64"
      ]
     },
     "execution_count": 4,
     "metadata": {},
     "output_type": "execute_result"
    }
   ],
   "source": [
    "df.var()"
   ]
  },
  {
   "cell_type": "code",
   "execution_count": 5,
   "id": "1abc1e4c",
   "metadata": {},
   "outputs": [
    {
     "data": {
      "text/plain": [
       "Cumulative delay        9164.457707\n",
       "Vehicle Queue Lenght       1.697122\n",
       "Reward                  6521.628100\n",
       "dtype: float64"
      ]
     },
     "execution_count": 5,
     "metadata": {},
     "output_type": "execute_result"
    }
   ],
   "source": [
    "df.std() "
   ]
  },
  {
   "cell_type": "code",
   "execution_count": 6,
   "id": "06189671",
   "metadata": {},
   "outputs": [
    {
     "data": {
      "text/html": [
       "<div>\n",
       "<style scoped>\n",
       "    .dataframe tbody tr th:only-of-type {\n",
       "        vertical-align: middle;\n",
       "    }\n",
       "\n",
       "    .dataframe tbody tr th {\n",
       "        vertical-align: top;\n",
       "    }\n",
       "\n",
       "    .dataframe thead th {\n",
       "        text-align: right;\n",
       "    }\n",
       "</style>\n",
       "<table border=\"1\" class=\"dataframe\">\n",
       "  <thead>\n",
       "    <tr style=\"text-align: right;\">\n",
       "      <th></th>\n",
       "      <th>Cumulative delay</th>\n",
       "      <th>Vehicle Queue Length</th>\n",
       "      <th>Reward</th>\n",
       "    </tr>\n",
       "  </thead>\n",
       "  <tbody>\n",
       "    <tr>\n",
       "      <th>0</th>\n",
       "      <td>47909</td>\n",
       "      <td>8.872037</td>\n",
       "      <td>-26851</td>\n",
       "    </tr>\n",
       "    <tr>\n",
       "      <th>1</th>\n",
       "      <td>55420</td>\n",
       "      <td>10.262963</td>\n",
       "      <td>-32594</td>\n",
       "    </tr>\n",
       "    <tr>\n",
       "      <th>2</th>\n",
       "      <td>46591</td>\n",
       "      <td>8.627963</td>\n",
       "      <td>-24534</td>\n",
       "    </tr>\n",
       "    <tr>\n",
       "      <th>3</th>\n",
       "      <td>43354</td>\n",
       "      <td>8.028519</td>\n",
       "      <td>-22327</td>\n",
       "    </tr>\n",
       "    <tr>\n",
       "      <th>4</th>\n",
       "      <td>49979</td>\n",
       "      <td>9.255370</td>\n",
       "      <td>-27664</td>\n",
       "    </tr>\n",
       "    <tr>\n",
       "      <th>...</th>\n",
       "      <td>...</td>\n",
       "      <td>...</td>\n",
       "      <td>...</td>\n",
       "    </tr>\n",
       "    <tr>\n",
       "      <th>95</th>\n",
       "      <td>2542464</td>\n",
       "      <td>470.826667</td>\n",
       "      <td>-2401095</td>\n",
       "    </tr>\n",
       "    <tr>\n",
       "      <th>96</th>\n",
       "      <td>2198248</td>\n",
       "      <td>407.082963</td>\n",
       "      <td>-2119158</td>\n",
       "    </tr>\n",
       "    <tr>\n",
       "      <th>97</th>\n",
       "      <td>2787651</td>\n",
       "      <td>516.231667</td>\n",
       "      <td>-2691845</td>\n",
       "    </tr>\n",
       "    <tr>\n",
       "      <th>98</th>\n",
       "      <td>2490389</td>\n",
       "      <td>461.183148</td>\n",
       "      <td>-2436575</td>\n",
       "    </tr>\n",
       "    <tr>\n",
       "      <th>99</th>\n",
       "      <td>2497573</td>\n",
       "      <td>462.513518</td>\n",
       "      <td>-2476235</td>\n",
       "    </tr>\n",
       "  </tbody>\n",
       "</table>\n",
       "<p>100 rows × 3 columns</p>\n",
       "</div>"
      ],
      "text/plain": [
       "    Cumulative delay  Vehicle Queue Length   Reward\n",
       "0              47909              8.872037   -26851\n",
       "1              55420             10.262963   -32594\n",
       "2              46591              8.627963   -24534\n",
       "3              43354              8.028519   -22327\n",
       "4              49979              9.255370   -27664\n",
       "..               ...                   ...      ...\n",
       "95           2542464            470.826667 -2401095\n",
       "96           2198248            407.082963 -2119158\n",
       "97           2787651            516.231667 -2691845\n",
       "98           2490389            461.183148 -2436575\n",
       "99           2497573            462.513518 -2476235\n",
       "\n",
       "[100 rows x 3 columns]"
      ]
     },
     "execution_count": 6,
     "metadata": {},
     "output_type": "execute_result"
    }
   ],
   "source": [
    "df2 = pd.read_csv('Experiment 2.csv')\n",
    "df2"
   ]
  },
  {
   "cell_type": "code",
   "execution_count": 7,
   "id": "02b0a621",
   "metadata": {},
   "outputs": [
    {
     "data": {
      "text/plain": [
       "Cumulative delay        523722.730000\n",
       "Vehicle Queue Length        96.985691\n",
       "Reward                 -444833.790000\n",
       "dtype: float64"
      ]
     },
     "execution_count": 7,
     "metadata": {},
     "output_type": "execute_result"
    }
   ],
   "source": [
    "df2.mean()"
   ]
  },
  {
   "cell_type": "code",
   "execution_count": 9,
   "id": "44ecdf5d",
   "metadata": {},
   "outputs": [
    {
     "data": {
      "text/plain": [
       "Cumulative delay        4.738312e+11\n",
       "Vehicle Queue Length    1.624936e+04\n",
       "Reward                  4.264678e+11\n",
       "dtype: float64"
      ]
     },
     "execution_count": 9,
     "metadata": {},
     "output_type": "execute_result"
    }
   ],
   "source": [
    "df2.var()"
   ]
  },
  {
   "cell_type": "code",
   "execution_count": 10,
   "id": "f756ba20",
   "metadata": {},
   "outputs": [
    {
     "data": {
      "text/plain": [
       "Cumulative delay        688354.006490\n",
       "Vehicle Queue Length       127.472964\n",
       "Reward                  653045.021689\n",
       "dtype: float64"
      ]
     },
     "execution_count": 10,
     "metadata": {},
     "output_type": "execute_result"
    }
   ],
   "source": [
    "df2.std() "
   ]
  },
  {
   "cell_type": "code",
   "execution_count": null,
   "id": "d5671d7b",
   "metadata": {},
   "outputs": [],
   "source": []
  }
 ],
 "metadata": {
  "kernelspec": {
   "display_name": "Python 3 (ipykernel)",
   "language": "python",
   "name": "python3"
  },
  "language_info": {
   "codemirror_mode": {
    "name": "ipython",
    "version": 3
   },
   "file_extension": ".py",
   "mimetype": "text/x-python",
   "name": "python",
   "nbconvert_exporter": "python",
   "pygments_lexer": "ipython3",
   "version": "3.9.7"
  }
 },
 "nbformat": 4,
 "nbformat_minor": 5
}
