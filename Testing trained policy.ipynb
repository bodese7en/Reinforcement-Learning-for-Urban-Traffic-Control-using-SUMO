{
 "cells": [
  {
   "cell_type": "code",
   "execution_count": 15,
   "id": "c2d42ce6",
   "metadata": {},
   "outputs": [],
   "source": [
    "# Python Program to illustrate Linear Plotting\n",
    "import matplotlib.pyplot as plt\n",
    "import pandas as pd\n",
    "import numpy as np"
   ]
  },
  {
   "cell_type": "code",
   "execution_count": 16,
   "id": "2fffacfa",
   "metadata": {},
   "outputs": [
    {
     "data": {
      "text/html": [
       "<div>\n",
       "<style scoped>\n",
       "    .dataframe tbody tr th:only-of-type {\n",
       "        vertical-align: middle;\n",
       "    }\n",
       "\n",
       "    .dataframe tbody tr th {\n",
       "        vertical-align: top;\n",
       "    }\n",
       "\n",
       "    .dataframe thead th {\n",
       "        text-align: right;\n",
       "    }\n",
       "</style>\n",
       "<table border=\"1\" class=\"dataframe\">\n",
       "  <thead>\n",
       "    <tr style=\"text-align: right;\">\n",
       "      <th></th>\n",
       "      <th>Queue Length 1</th>\n",
       "      <th>Queue Length 2</th>\n",
       "      <th>Steps</th>\n",
       "    </tr>\n",
       "  </thead>\n",
       "  <tbody>\n",
       "    <tr>\n",
       "      <th>0</th>\n",
       "      <td>0</td>\n",
       "      <td>0</td>\n",
       "      <td>1</td>\n",
       "    </tr>\n",
       "    <tr>\n",
       "      <th>1</th>\n",
       "      <td>0</td>\n",
       "      <td>0</td>\n",
       "      <td>2</td>\n",
       "    </tr>\n",
       "    <tr>\n",
       "      <th>2</th>\n",
       "      <td>0</td>\n",
       "      <td>0</td>\n",
       "      <td>3</td>\n",
       "    </tr>\n",
       "    <tr>\n",
       "      <th>3</th>\n",
       "      <td>0</td>\n",
       "      <td>0</td>\n",
       "      <td>4</td>\n",
       "    </tr>\n",
       "    <tr>\n",
       "      <th>4</th>\n",
       "      <td>0</td>\n",
       "      <td>0</td>\n",
       "      <td>5</td>\n",
       "    </tr>\n",
       "    <tr>\n",
       "      <th>...</th>\n",
       "      <td>...</td>\n",
       "      <td>...</td>\n",
       "      <td>...</td>\n",
       "    </tr>\n",
       "    <tr>\n",
       "      <th>5395</th>\n",
       "      <td>0</td>\n",
       "      <td>679</td>\n",
       "      <td>5396</td>\n",
       "    </tr>\n",
       "    <tr>\n",
       "      <th>5396</th>\n",
       "      <td>0</td>\n",
       "      <td>679</td>\n",
       "      <td>5397</td>\n",
       "    </tr>\n",
       "    <tr>\n",
       "      <th>5397</th>\n",
       "      <td>0</td>\n",
       "      <td>679</td>\n",
       "      <td>5398</td>\n",
       "    </tr>\n",
       "    <tr>\n",
       "      <th>5398</th>\n",
       "      <td>0</td>\n",
       "      <td>679</td>\n",
       "      <td>5399</td>\n",
       "    </tr>\n",
       "    <tr>\n",
       "      <th>5399</th>\n",
       "      <td>0</td>\n",
       "      <td>679</td>\n",
       "      <td>5400</td>\n",
       "    </tr>\n",
       "  </tbody>\n",
       "</table>\n",
       "<p>5400 rows × 3 columns</p>\n",
       "</div>"
      ],
      "text/plain": [
       "      Queue Length 1  Queue Length 2  Steps\n",
       "0                  0               0      1\n",
       "1                  0               0      2\n",
       "2                  0               0      3\n",
       "3                  0               0      4\n",
       "4                  0               0      5\n",
       "...              ...             ...    ...\n",
       "5395               0             679   5396\n",
       "5396               0             679   5397\n",
       "5397               0             679   5398\n",
       "5398               0             679   5399\n",
       "5399               0             679   5400\n",
       "\n",
       "[5400 rows x 3 columns]"
      ]
     },
     "execution_count": 16,
     "metadata": {},
     "output_type": "execute_result"
    }
   ],
   "source": [
    "df = pd.read_csv('SUMO.csv')\n",
    "df"
   ]
  },
  {
   "cell_type": "code",
   "execution_count": 17,
   "id": "54b8f58e",
   "metadata": {},
   "outputs": [
    {
     "data": {
      "text/plain": [
       "0          1\n",
       "1          2\n",
       "2          3\n",
       "3          4\n",
       "4          5\n",
       "        ... \n",
       "5395    5396\n",
       "5396    5397\n",
       "5397    5398\n",
       "5398    5399\n",
       "5399    5400\n",
       "Name: Steps, Length: 5400, dtype: int64"
      ]
     },
     "execution_count": 17,
     "metadata": {},
     "output_type": "execute_result"
    }
   ],
   "source": [
    "steps = df[\"Steps\"]\n",
    "steps"
   ]
  },
  {
   "cell_type": "code",
   "execution_count": 18,
   "id": "b99ca8b5",
   "metadata": {},
   "outputs": [
    {
     "data": {
      "text/plain": [
       "0       0\n",
       "1       0\n",
       "2       0\n",
       "3       0\n",
       "4       0\n",
       "       ..\n",
       "5395    0\n",
       "5396    0\n",
       "5397    0\n",
       "5398    0\n",
       "5399    0\n",
       "Name: Queue Length 1, Length: 5400, dtype: int64"
      ]
     },
     "execution_count": 18,
     "metadata": {},
     "output_type": "execute_result"
    }
   ],
   "source": [
    "queue1 = df['Queue Length 1']\n",
    "queue1"
   ]
  },
  {
   "cell_type": "code",
   "execution_count": 19,
   "id": "e144b812",
   "metadata": {},
   "outputs": [
    {
     "data": {
      "text/plain": [
       "0         0\n",
       "1         0\n",
       "2         0\n",
       "3         0\n",
       "4         0\n",
       "       ... \n",
       "5395    679\n",
       "5396    679\n",
       "5397    679\n",
       "5398    679\n",
       "5399    679\n",
       "Name: Queue Length 2, Length: 5400, dtype: int64"
      ]
     },
     "execution_count": 19,
     "metadata": {},
     "output_type": "execute_result"
    }
   ],
   "source": [
    "queue2 = df['Queue Length 2']\n",
    "queue2"
   ]
  },
  {
   "cell_type": "code",
   "execution_count": 30,
   "id": "bc3d3a36",
   "metadata": {},
   "outputs": [
    {
     "data": {
      "image/png": "[encoded data removed]",
      "text/plain": [
       "<Figure size 432x288 with 1 Axes>"
      ]
     },
     "metadata": {
      "needs_background": "light"
     },
     "output_type": "display_data"
    }
   ],
   "source": [
    " \n",
    "plt.plot(steps, queue1, color ='orange', \n",
    "         label ='Experiment 1')\n",
    "  \n",
    "plt.plot(steps, queue2, color ='green', \n",
    "         label ='Experiment 2')\n",
    "\n",
    "\n",
    "# naming of x-axis and y-axis\n",
    "plt.xlabel('Steps')\n",
    "plt.ylabel('Vehicle Queue Length')\n",
    "\n",
    "# naming the title of the plot\n",
    "plt.title('Queue Length')\n",
    "  \n",
    "plt.legend()\n",
    "plt.show()"
   ]
  },
  {
   "cell_type": "code",
   "execution_count": 21,
   "id": "e00e7ba7",
   "metadata": {},
   "outputs": [
    {
     "data": {
      "text/html": [
       "<div>\n",
       "<style scoped>\n",
       "    .dataframe tbody tr th:only-of-type {\n",
       "        vertical-align: middle;\n",
       "    }\n",
       "\n",
       "    .dataframe tbody tr th {\n",
       "        vertical-align: top;\n",
       "    }\n",
       "\n",
       "    .dataframe thead th {\n",
       "        text-align: right;\n",
       "    }\n",
       "</style>\n",
       "<table border=\"1\" class=\"dataframe\">\n",
       "  <thead>\n",
       "    <tr style=\"text-align: right;\">\n",
       "      <th></th>\n",
       "      <th>Reward_1</th>\n",
       "      <th>Reward_2</th>\n",
       "      <th>Action Step</th>\n",
       "    </tr>\n",
       "  </thead>\n",
       "  <tbody>\n",
       "    <tr>\n",
       "      <th>0</th>\n",
       "      <td>0.0</td>\n",
       "      <td>0</td>\n",
       "      <td>1</td>\n",
       "    </tr>\n",
       "    <tr>\n",
       "      <th>1</th>\n",
       "      <td>0.0</td>\n",
       "      <td>0</td>\n",
       "      <td>2</td>\n",
       "    </tr>\n",
       "    <tr>\n",
       "      <th>2</th>\n",
       "      <td>0.0</td>\n",
       "      <td>0</td>\n",
       "      <td>3</td>\n",
       "    </tr>\n",
       "    <tr>\n",
       "      <th>3</th>\n",
       "      <td>0.0</td>\n",
       "      <td>0</td>\n",
       "      <td>4</td>\n",
       "    </tr>\n",
       "    <tr>\n",
       "      <th>4</th>\n",
       "      <td>0.0</td>\n",
       "      <td>0</td>\n",
       "      <td>5</td>\n",
       "    </tr>\n",
       "    <tr>\n",
       "      <th>...</th>\n",
       "      <td>...</td>\n",
       "      <td>...</td>\n",
       "      <td>...</td>\n",
       "    </tr>\n",
       "    <tr>\n",
       "      <th>535</th>\n",
       "      <td>NaN</td>\n",
       "      <td>-6780</td>\n",
       "      <td>536</td>\n",
       "    </tr>\n",
       "    <tr>\n",
       "      <th>536</th>\n",
       "      <td>NaN</td>\n",
       "      <td>-6785</td>\n",
       "      <td>537</td>\n",
       "    </tr>\n",
       "    <tr>\n",
       "      <th>537</th>\n",
       "      <td>NaN</td>\n",
       "      <td>-6790</td>\n",
       "      <td>538</td>\n",
       "    </tr>\n",
       "    <tr>\n",
       "      <th>538</th>\n",
       "      <td>NaN</td>\n",
       "      <td>-6790</td>\n",
       "      <td>539</td>\n",
       "    </tr>\n",
       "    <tr>\n",
       "      <th>539</th>\n",
       "      <td>NaN</td>\n",
       "      <td>-6790</td>\n",
       "      <td>540</td>\n",
       "    </tr>\n",
       "  </tbody>\n",
       "</table>\n",
       "<p>540 rows × 3 columns</p>\n",
       "</div>"
      ],
      "text/plain": [
       "     Reward_1  Reward_2  Action Step\n",
       "0         0.0         0            1\n",
       "1         0.0         0            2\n",
       "2         0.0         0            3\n",
       "3         0.0         0            4\n",
       "4         0.0         0            5\n",
       "..        ...       ...          ...\n",
       "535       NaN     -6780          536\n",
       "536       NaN     -6785          537\n",
       "537       NaN     -6790          538\n",
       "538       NaN     -6790          539\n",
       "539       NaN     -6790          540\n",
       "\n",
       "[540 rows x 3 columns]"
      ]
     },
     "execution_count": 21,
     "metadata": {},
     "output_type": "execute_result"
    }
   ],
   "source": [
    "df2 = pd.read_csv('SUMO 2.csv')\n",
    "df2"
   ]
  },
  {
   "cell_type": "code",
   "execution_count": 22,
   "id": "620f9e24",
   "metadata": {},
   "outputs": [
    {
     "data": {
      "text/plain": [
       "array([   0.,   -3.,    3.,  -10.,  -16.,   -6.,   32.,  -17.,  -18.,\n",
       "         -9.,   36.,  -12.,   -8.,   28.,  -43.,   11.,  -62.,    5.,\n",
       "        -50.,   55.,  -15.,   33.,  -26.,  -22.,   12.,  -93.,  100.,\n",
       "         89.,  -40.,  -49.,   54.,  -37., -100.,  -42.,   27.,  -74.,\n",
       "         63.,  -44.,  -11.,   72.,   -1.,  -59.,  -92.,  -32.,  -81.,\n",
       "        296.,  -25.,  -73.,   30.,   29.,  -41.,    7.,  -70.,   98.,\n",
       "        -23.,  -51.,  -78.,  143.,  -35.,   80.,  -85.,   17., -113.,\n",
       "         20.,   88.,   25.,  -27.,   87., -107.,    8., -112.,   56.,\n",
       "        108.,   59., -123.,   48.,   81., -102.,   64.,  -66., -153.,\n",
       "        110.,   66.,  -58.,   96., -170.,   50.,  -14.,   93.,  -96.,\n",
       "         71., -154.,  -87.,  122.,  101., -152.,  206.,  -99.,  125.,\n",
       "        -29.,   85.,  -94.,   49.,  -75.,   84.,   47.,   23., -135.,\n",
       "        240.,  -54.,   31.,  162.,  -21.,  -30.,   42.,  -39.,   40.,\n",
       "         18.,  -13.,  -36.,   99.,  -61.,   57.,  -55.,  116.,    4.,\n",
       "         -5.,  -48.,   67.,  -65.,   21.,   60.,  -24.,  -28.,   19.,\n",
       "         34.,   10.,   -7.,   14.,    2.,   -2.,   90.,   70.,    9.,\n",
       "         43.,   -4.,    6.,    1.,   nan])"
      ]
     },
     "execution_count": 22,
     "metadata": {},
     "output_type": "execute_result"
    }
   ],
   "source": [
    "df2[\"Reward_1\"].unique()"
   ]
  },
  {
   "cell_type": "code",
   "execution_count": 23,
   "id": "4efcef6d",
   "metadata": {},
   "outputs": [],
   "source": [
    "# Replacing nan values with 0 in latitude and longtitude\n",
    "df2.Reward_1.fillna(0, inplace=True)"
   ]
  },
  {
   "cell_type": "code",
   "execution_count": 24,
   "id": "fe141b7c",
   "metadata": {},
   "outputs": [
    {
     "data": {
      "text/plain": [
       "array([   0.,   -3.,    3.,  -10.,  -16.,   -6.,   32.,  -17.,  -18.,\n",
       "         -9.,   36.,  -12.,   -8.,   28.,  -43.,   11.,  -62.,    5.,\n",
       "        -50.,   55.,  -15.,   33.,  -26.,  -22.,   12.,  -93.,  100.,\n",
       "         89.,  -40.,  -49.,   54.,  -37., -100.,  -42.,   27.,  -74.,\n",
       "         63.,  -44.,  -11.,   72.,   -1.,  -59.,  -92.,  -32.,  -81.,\n",
       "        296.,  -25.,  -73.,   30.,   29.,  -41.,    7.,  -70.,   98.,\n",
       "        -23.,  -51.,  -78.,  143.,  -35.,   80.,  -85.,   17., -113.,\n",
       "         20.,   88.,   25.,  -27.,   87., -107.,    8., -112.,   56.,\n",
       "        108.,   59., -123.,   48.,   81., -102.,   64.,  -66., -153.,\n",
       "        110.,   66.,  -58.,   96., -170.,   50.,  -14.,   93.,  -96.,\n",
       "         71., -154.,  -87.,  122.,  101., -152.,  206.,  -99.,  125.,\n",
       "        -29.,   85.,  -94.,   49.,  -75.,   84.,   47.,   23., -135.,\n",
       "        240.,  -54.,   31.,  162.,  -21.,  -30.,   42.,  -39.,   40.,\n",
       "         18.,  -13.,  -36.,   99.,  -61.,   57.,  -55.,  116.,    4.,\n",
       "         -5.,  -48.,   67.,  -65.,   21.,   60.,  -24.,  -28.,   19.,\n",
       "         34.,   10.,   -7.,   14.,    2.,   -2.,   90.,   70.,    9.,\n",
       "         43.,   -4.,    6.,    1.])"
      ]
     },
     "execution_count": 24,
     "metadata": {},
     "output_type": "execute_result"
    }
   ],
   "source": [
    "df2[\"Reward_1\"].unique()"
   ]
  },
  {
   "cell_type": "code",
   "execution_count": 25,
   "id": "d9d4ad33",
   "metadata": {},
   "outputs": [
    {
     "data": {
      "text/plain": [
       "0      0.0\n",
       "1      0.0\n",
       "2      0.0\n",
       "3      0.0\n",
       "4      0.0\n",
       "      ... \n",
       "535    0.0\n",
       "536    0.0\n",
       "537    0.0\n",
       "538    0.0\n",
       "539    0.0\n",
       "Name: Reward_1, Length: 540, dtype: float64"
      ]
     },
     "execution_count": 25,
     "metadata": {},
     "output_type": "execute_result"
    }
   ],
   "source": [
    "reward1 = df2['Reward_1']\n",
    "reward1"
   ]
  },
  {
   "cell_type": "code",
   "execution_count": 26,
   "id": "18848161",
   "metadata": {},
   "outputs": [
    {
     "data": {
      "text/plain": [
       "0         0\n",
       "1         0\n",
       "2         0\n",
       "3         0\n",
       "4         0\n",
       "       ... \n",
       "535   -6780\n",
       "536   -6785\n",
       "537   -6790\n",
       "538   -6790\n",
       "539   -6790\n",
       "Name: Reward_2, Length: 540, dtype: int64"
      ]
     },
     "execution_count": 26,
     "metadata": {},
     "output_type": "execute_result"
    }
   ],
   "source": [
    "reward2 = df2['Reward_2']\n",
    "reward2"
   ]
  },
  {
   "cell_type": "code",
   "execution_count": 27,
   "id": "1e2b5fe0",
   "metadata": {},
   "outputs": [
    {
     "data": {
      "text/plain": [
       "0        1\n",
       "1        2\n",
       "2        3\n",
       "3        4\n",
       "4        5\n",
       "      ... \n",
       "535    536\n",
       "536    537\n",
       "537    538\n",
       "538    539\n",
       "539    540\n",
       "Name: Action Step, Length: 540, dtype: int64"
      ]
     },
     "execution_count": 27,
     "metadata": {},
     "output_type": "execute_result"
    }
   ],
   "source": [
    "step = df2[\"Action Step\"]\n",
    "step"
   ]
  },
  {
   "cell_type": "code",
   "execution_count": 29,
   "id": "48e79434",
   "metadata": {},
   "outputs": [
    {
     "data": {
      "image/png": "[encoded data removed]",
      "text/plain": [
       "<Figure size 432x288 with 1 Axes>"
      ]
     },
     "metadata": {
      "needs_background": "light"
     },
     "output_type": "display_data"
    }
   ],
   "source": [
    "plt.plot(step, reward1, color ='blue', \n",
    "         label ='Experiement 1')\n",
    "  \n",
    "plt.plot(step, reward2, color ='red', \n",
    "         label ='Experiment 2')\n",
    "\n",
    "\n",
    "# naming of x-axis and y-axis\n",
    "plt.xlabel('Action Steps')\n",
    "plt.ylabel('Reward')\n",
    "\n",
    "# naming the title of the plot\n",
    "plt.title('Reward')\n",
    "  \n",
    "plt.legend()\n",
    "plt.show()"
   ]
  },
  {
   "cell_type": "code",
   "execution_count": null,
   "id": "523980ac",
   "metadata": {},
   "outputs": [],
   "source": []
  }
 ],
 "metadata": {
  "kernelspec": {
   "display_name": "Python 3 (ipykernel)",
   "language": "python",
   "name": "python3"
  },
  "language_info": {
   "codemirror_mode": {
    "name": "ipython",
    "version": 3
   },
   "file_extension": ".py",
   "mimetype": "text/x-python",
   "name": "python",
   "nbconvert_exporter": "python",
   "pygments_lexer": "ipython3",
   "version": "3.9.7"
  }
 },
 "nbformat": 4,
 "nbformat_minor": 5
}
